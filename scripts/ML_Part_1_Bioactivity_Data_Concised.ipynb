{
  "cells": [
    {
      "cell_type": "markdown",
      "metadata": {
        "colab_type": "text",
        "id": "wSFbIMb87cHu"
      },
      "source": [
        "# **Prediction of Novel Small Molecules as Potential TGR5/GLP1 Agonists in Type 2 Diabetes Treatment  [Part 1] Download Bioactivity Data**\n",
        "\n",
        "Moses Ainembabazi\n",
        "\n",
        "[*'mozey256' github account*](https://github.com/mozey256/TGR5)\n",
        "\n",
        "In this Jupyter notebook, we will be building a real-life **data science project** that you can include in your **data science portfolio**. Particularly, we will be building a machine learning model using the ChEMBL bioactivity data.\n",
        "\n",
        "---"
      ]
    },
    {
      "cell_type": "markdown",
      "metadata": {
        "colab_type": "text",
        "id": "3iQiERxumDor"
      },
      "source": [
        "## **ChEMBL Database**\n",
        "\n",
        "The [*ChEMBL Database*](https://www.ebi.ac.uk/chembl/) is a database that contains curated bioactivity data of more than 2 million compounds. It is compiled from more than 76,000 documents, 1.2 million assays and the data spans 13,000 targets and 1,800 cells and 33,000 indications.\n",
        "[Data as of March 25, 2020; ChEMBL version 27]."
      ]
    },
    {
      "cell_type": "markdown",
      "metadata": {
        "colab_type": "text",
        "id": "iryGAwAIQ4yf"
      },
      "source": [
        "## **Installing libraries**"
      ]
    },
    {
      "cell_type": "markdown",
      "metadata": {
        "colab_type": "text",
        "id": "toGT1U_B7F2i"
      },
      "source": [
        "Install the ChEMBL web service package so that we can retrieve bioactivity data from the ChEMBL Database."
      ]
    },
    {
      "cell_type": "code",
      "execution_count": 3,
      "metadata": {
        "colab": {
          "base_uri": "https://localhost:8080/",
          "height": 343
        },
        "colab_type": "code",
        "id": "cJGExHQBfLh7",
        "outputId": "c4379980-7fa4-4e5c-9a01-809f48b5f0c6"
      },
      "outputs": [
        {
          "name": "stdout",
          "output_type": "stream",
          "text": [
            "Defaulting to user installation because normal site-packages is not writeable\n",
            "Requirement already satisfied: chembl_webresource_client in c:\\users\\moses\\appdata\\roaming\\python\\python310\\site-packages (0.10.8)\n",
            "Requirement already satisfied: urllib3 in c:\\users\\moses\\appdata\\roaming\\python\\python310\\site-packages (from chembl_webresource_client) (1.26.15)\n",
            "Requirement already satisfied: requests>=2.18.4 in c:\\users\\moses\\appdata\\roaming\\python\\python310\\site-packages (from chembl_webresource_client) (2.31.0)\n",
            "Requirement already satisfied: requests-cache~=0.7.0 in c:\\users\\moses\\appdata\\roaming\\python\\python310\\site-packages (from chembl_webresource_client) (0.7.5)\n",
            "Requirement already satisfied: easydict in c:\\users\\moses\\appdata\\roaming\\python\\python310\\site-packages (from chembl_webresource_client) (1.12)\n",
            "Requirement already satisfied: charset-normalizer<4,>=2 in c:\\users\\moses\\appdata\\roaming\\python\\python310\\site-packages (from requests>=2.18.4->chembl_webresource_client) (3.1.0)\n",
            "Requirement already satisfied: idna<4,>=2.5 in c:\\users\\moses\\appdata\\roaming\\python\\python310\\site-packages (from requests>=2.18.4->chembl_webresource_client) (3.4)\n",
            "Requirement already satisfied: certifi>=2017.4.17 in c:\\users\\moses\\appdata\\roaming\\python\\python310\\site-packages (from requests>=2.18.4->chembl_webresource_client) (2022.12.7)\n",
            "Requirement already satisfied: attrs<22.0,>=21.2 in c:\\users\\moses\\appdata\\roaming\\python\\python310\\site-packages (from requests-cache~=0.7.0->chembl_webresource_client) (21.4.0)\n",
            "Requirement already satisfied: itsdangerous>=2.0.1 in c:\\users\\moses\\appdata\\roaming\\python\\python310\\site-packages (from requests-cache~=0.7.0->chembl_webresource_client) (2.1.2)\n",
            "Requirement already satisfied: pyyaml>=5.4 in c:\\users\\moses\\appdata\\roaming\\python\\python310\\site-packages (from requests-cache~=0.7.0->chembl_webresource_client) (6.0)\n",
            "Requirement already satisfied: url-normalize<2.0,>=1.4 in c:\\users\\moses\\appdata\\roaming\\python\\python310\\site-packages (from requests-cache~=0.7.0->chembl_webresource_client) (1.4.3)\n",
            "Requirement already satisfied: six in c:\\users\\moses\\appdata\\roaming\\python\\python310\\site-packages (from url-normalize<2.0,>=1.4->requests-cache~=0.7.0->chembl_webresource_client) (1.16.0)\n"
          ]
        },
        {
          "name": "stderr",
          "output_type": "stream",
          "text": [
            "WARNING: Ignoring invalid distribution -atplotlib (c:\\users\\moses\\appdata\\roaming\\python\\python310\\site-packages)\n",
            "WARNING: Ignoring invalid distribution -atplotlib (c:\\users\\moses\\appdata\\roaming\\python\\python310\\site-packages)\n",
            "WARNING: Ignoring invalid distribution -atplotlib (c:\\users\\moses\\appdata\\roaming\\python\\python310\\site-packages)\n",
            "WARNING: Ignoring invalid distribution -atplotlib (c:\\users\\moses\\appdata\\roaming\\python\\python310\\site-packages)\n",
            "\n",
            "[notice] A new release of pip is available: 23.3.1 -> 24.0\n",
            "[notice] To update, run: python.exe -m pip install --upgrade pip\n"
          ]
        }
      ],
      "source": [
        "! pip install chembl_webresource_client"
      ]
    },
    {
      "cell_type": "markdown",
      "metadata": {
        "colab_type": "text",
        "id": "J0kJjL8gb5nX"
      },
      "source": [
        "## **Importing libraries**"
      ]
    },
    {
      "cell_type": "code",
      "execution_count": 4,
      "metadata": {
        "colab": {},
        "colab_type": "code",
        "id": "RXoCvMPPfNrv"
      },
      "outputs": [],
      "source": [
        "# Import necessary libraries\n",
        "import pandas as pd\n",
        "from chembl_webresource_client.new_client import new_client"
      ]
    },
    {
      "cell_type": "markdown",
      "metadata": {
        "colab_type": "text",
        "id": "1FgUai1bfigC"
      },
      "source": [
        "## **Search for Target protein**"
      ]
    },
    {
      "cell_type": "markdown",
      "metadata": {
        "colab_type": "text",
        "id": "7lBsDrD0gAqH"
      },
      "source": [
        "### **Target search for TGR5 T2D **"
      ]
    },
    {
      "cell_type": "code",
      "execution_count": 5,
      "metadata": {
        "colab": {
          "base_uri": "https://localhost:8080/",
          "height": 317
        },
        "colab_type": "code",
        "id": "Vxtp79so4ZjF",
        "outputId": "965b4268-ad49-4c42-8847-4b463761fac7"
      },
      "outputs": [
        {
          "data": {
            "text/html": [
              "<div>\n",
              "<style scoped>\n",
              "    .dataframe tbody tr th:only-of-type {\n",
              "        vertical-align: middle;\n",
              "    }\n",
              "\n",
              "    .dataframe tbody tr th {\n",
              "        vertical-align: top;\n",
              "    }\n",
              "\n",
              "    .dataframe thead th {\n",
              "        text-align: right;\n",
              "    }\n",
              "</style>\n",
              "<table border=\"1\" class=\"dataframe\">\n",
              "  <thead>\n",
              "    <tr style=\"text-align: right;\">\n",
              "      <th></th>\n",
              "      <th>cross_references</th>\n",
              "      <th>organism</th>\n",
              "      <th>pref_name</th>\n",
              "      <th>score</th>\n",
              "      <th>species_group_flag</th>\n",
              "      <th>target_chembl_id</th>\n",
              "      <th>target_components</th>\n",
              "      <th>target_type</th>\n",
              "      <th>tax_id</th>\n",
              "    </tr>\n",
              "  </thead>\n",
              "  <tbody>\n",
              "    <tr>\n",
              "      <th>0</th>\n",
              "      <td>[{'xref_id': 'Q80T02', 'xref_name': None, 'xre...</td>\n",
              "      <td>Rattus norvegicus</td>\n",
              "      <td>G-protein coupled bile acid receptor 1</td>\n",
              "      <td>15.0</td>\n",
              "      <td>False</td>\n",
              "      <td>CHEMBL1075223</td>\n",
              "      <td>[{'accession': 'Q80T02', 'component_descriptio...</td>\n",
              "      <td>SINGLE PROTEIN</td>\n",
              "      <td>10116</td>\n",
              "    </tr>\n",
              "    <tr>\n",
              "      <th>1</th>\n",
              "      <td>[]</td>\n",
              "      <td>Mus musculus</td>\n",
              "      <td>G-protein coupled bile acid receptor 1</td>\n",
              "      <td>15.0</td>\n",
              "      <td>False</td>\n",
              "      <td>CHEMBL1255150</td>\n",
              "      <td>[{'accession': 'Q80SS6', 'component_descriptio...</td>\n",
              "      <td>SINGLE PROTEIN</td>\n",
              "      <td>10090</td>\n",
              "    </tr>\n",
              "    <tr>\n",
              "      <th>2</th>\n",
              "      <td>[{'xref_id': 'Q8TDU6', 'xref_name': None, 'xre...</td>\n",
              "      <td>Homo sapiens</td>\n",
              "      <td>G-protein coupled bile acid receptor 1</td>\n",
              "      <td>13.0</td>\n",
              "      <td>False</td>\n",
              "      <td>CHEMBL5409</td>\n",
              "      <td>[{'accession': 'Q8TDU6', 'component_descriptio...</td>\n",
              "      <td>SINGLE PROTEIN</td>\n",
              "      <td>9606</td>\n",
              "    </tr>\n",
              "  </tbody>\n",
              "</table>\n",
              "</div>"
            ],
            "text/plain": [
              "                                    cross_references           organism  \\\n",
              "0  [{'xref_id': 'Q80T02', 'xref_name': None, 'xre...  Rattus norvegicus   \n",
              "1                                                 []       Mus musculus   \n",
              "2  [{'xref_id': 'Q8TDU6', 'xref_name': None, 'xre...       Homo sapiens   \n",
              "\n",
              "                                pref_name  score  species_group_flag  \\\n",
              "0  G-protein coupled bile acid receptor 1   15.0               False   \n",
              "1  G-protein coupled bile acid receptor 1   15.0               False   \n",
              "2  G-protein coupled bile acid receptor 1   13.0               False   \n",
              "\n",
              "  target_chembl_id                                  target_components  \\\n",
              "0    CHEMBL1075223  [{'accession': 'Q80T02', 'component_descriptio...   \n",
              "1    CHEMBL1255150  [{'accession': 'Q80SS6', 'component_descriptio...   \n",
              "2       CHEMBL5409  [{'accession': 'Q8TDU6', 'component_descriptio...   \n",
              "\n",
              "      target_type  tax_id  \n",
              "0  SINGLE PROTEIN   10116  \n",
              "1  SINGLE PROTEIN   10090  \n",
              "2  SINGLE PROTEIN    9606  "
            ]
          },
          "execution_count": 5,
          "metadata": {},
          "output_type": "execute_result"
        }
      ],
      "source": [
        "# Target search for tgr5t2d\n",
        "target = new_client.target\n",
        "target_query = target.search('tgr5')\n",
        "targets = pd.DataFrame.from_dict(target_query)\n",
        "targets"
      ]
    },
    {
      "cell_type": "markdown",
      "metadata": {
        "colab_type": "text",
        "id": "Y5OPfEALjAfZ"
      },
      "source": [
        "### **Select and retrieve bioactivity data for *TGR5 T2D* (third entry)**"
      ]
    },
    {
      "cell_type": "markdown",
      "metadata": {
        "colab_type": "text",
        "id": "gSQ3aroOgML7"
      },
      "source": [
        "We will assign the fifth entry (which corresponds to the target protein, *TGR5 T2D *) to the ***selected_target*** variable "
      ]
    },
    {
      "cell_type": "code",
      "execution_count": 6,
      "metadata": {
        "colab": {
          "base_uri": "https://localhost:8080/",
          "height": 34
        },
        "colab_type": "code",
        "id": "StrcHMVLha7u",
        "outputId": "3a850118-8f76-4fae-899e-10823644aa60"
      },
      "outputs": [
        {
          "data": {
            "text/plain": [
              "'CHEMBL5409'"
            ]
          },
          "execution_count": 6,
          "metadata": {},
          "output_type": "execute_result"
        }
      ],
      "source": [
        "selected_target = targets.target_chembl_id[2]\n",
        "selected_target"
      ]
    },
    {
      "cell_type": "markdown",
      "metadata": {
        "colab_type": "text",
        "id": "GWd2DRalgjzB"
      },
      "source": [
        "Here, we will retrieve only bioactivity data for *tgr5* (CHEMBL5409) that are reported as EC$_{50}$ values in nM (nanomolar) unit."
      ]
    },
    {
      "cell_type": "code",
      "execution_count": 7,
      "metadata": {
        "colab": {},
        "colab_type": "code",
        "id": "LeFbV_CsSP8D"
      },
      "outputs": [],
      "source": [
        "activity = new_client.activity\n",
        "res = activity.filter(target_chembl_id=selected_target).filter(standard_type=\"EC50\")"
      ]
    },
    {
      "cell_type": "code",
      "execution_count": 8,
      "metadata": {
        "colab": {},
        "colab_type": "code",
        "id": "RC4T-NEmSWV-"
      },
      "outputs": [],
      "source": [
        "df = pd.DataFrame.from_dict(res)"
      ]
    },
    {
      "cell_type": "code",
      "execution_count": 9,
      "metadata": {
        "colab": {
          "base_uri": "https://localhost:8080/",
          "height": 264
        },
        "colab_type": "code",
        "id": "s9iUAXFdSkoM",
        "outputId": "b07de8f4-de16-4cd6-d418-35d684a7e9ab"
      },
      "outputs": [
        {
          "data": {
            "text/html": [
              "<div>\n",
              "<style scoped>\n",
              "    .dataframe tbody tr th:only-of-type {\n",
              "        vertical-align: middle;\n",
              "    }\n",
              "\n",
              "    .dataframe tbody tr th {\n",
              "        vertical-align: top;\n",
              "    }\n",
              "\n",
              "    .dataframe thead th {\n",
              "        text-align: right;\n",
              "    }\n",
              "</style>\n",
              "<table border=\"1\" class=\"dataframe\">\n",
              "  <thead>\n",
              "    <tr style=\"text-align: right;\">\n",
              "      <th></th>\n",
              "      <th>action_type</th>\n",
              "      <th>activity_comment</th>\n",
              "      <th>activity_id</th>\n",
              "      <th>activity_properties</th>\n",
              "      <th>assay_chembl_id</th>\n",
              "      <th>assay_description</th>\n",
              "      <th>assay_type</th>\n",
              "      <th>assay_variant_accession</th>\n",
              "      <th>assay_variant_mutation</th>\n",
              "      <th>bao_endpoint</th>\n",
              "      <th>...</th>\n",
              "      <th>target_organism</th>\n",
              "      <th>target_pref_name</th>\n",
              "      <th>target_tax_id</th>\n",
              "      <th>text_value</th>\n",
              "      <th>toid</th>\n",
              "      <th>type</th>\n",
              "      <th>units</th>\n",
              "      <th>uo_units</th>\n",
              "      <th>upper_value</th>\n",
              "      <th>value</th>\n",
              "    </tr>\n",
              "  </thead>\n",
              "  <tbody>\n",
              "    <tr>\n",
              "      <th>0</th>\n",
              "      <td>None</td>\n",
              "      <td>None</td>\n",
              "      <td>1918776</td>\n",
              "      <td>[]</td>\n",
              "      <td>CHEMBL895768</td>\n",
              "      <td>Agonist activity at human TGR5 expressed in CH...</td>\n",
              "      <td>F</td>\n",
              "      <td>None</td>\n",
              "      <td>None</td>\n",
              "      <td>BAO_0000188</td>\n",
              "      <td>...</td>\n",
              "      <td>Homo sapiens</td>\n",
              "      <td>G-protein coupled bile acid receptor 1</td>\n",
              "      <td>9606</td>\n",
              "      <td>None</td>\n",
              "      <td>None</td>\n",
              "      <td>EC50</td>\n",
              "      <td>uM</td>\n",
              "      <td>UO_0000065</td>\n",
              "      <td>None</td>\n",
              "      <td>0.755</td>\n",
              "    </tr>\n",
              "    <tr>\n",
              "      <th>1</th>\n",
              "      <td>None</td>\n",
              "      <td>None</td>\n",
              "      <td>1918815</td>\n",
              "      <td>[]</td>\n",
              "      <td>CHEMBL895768</td>\n",
              "      <td>Agonist activity at human TGR5 expressed in CH...</td>\n",
              "      <td>F</td>\n",
              "      <td>None</td>\n",
              "      <td>None</td>\n",
              "      <td>BAO_0000188</td>\n",
              "      <td>...</td>\n",
              "      <td>Homo sapiens</td>\n",
              "      <td>G-protein coupled bile acid receptor 1</td>\n",
              "      <td>9606</td>\n",
              "      <td>None</td>\n",
              "      <td>None</td>\n",
              "      <td>EC50</td>\n",
              "      <td>uM</td>\n",
              "      <td>UO_0000065</td>\n",
              "      <td>None</td>\n",
              "      <td>51.9</td>\n",
              "    </tr>\n",
              "    <tr>\n",
              "      <th>2</th>\n",
              "      <td>None</td>\n",
              "      <td>None</td>\n",
              "      <td>1918816</td>\n",
              "      <td>[]</td>\n",
              "      <td>CHEMBL895768</td>\n",
              "      <td>Agonist activity at human TGR5 expressed in CH...</td>\n",
              "      <td>F</td>\n",
              "      <td>None</td>\n",
              "      <td>None</td>\n",
              "      <td>BAO_0000188</td>\n",
              "      <td>...</td>\n",
              "      <td>Homo sapiens</td>\n",
              "      <td>G-protein coupled bile acid receptor 1</td>\n",
              "      <td>9606</td>\n",
              "      <td>None</td>\n",
              "      <td>None</td>\n",
              "      <td>EC50</td>\n",
              "      <td>uM</td>\n",
              "      <td>UO_0000065</td>\n",
              "      <td>None</td>\n",
              "      <td>25.5</td>\n",
              "    </tr>\n",
              "  </tbody>\n",
              "</table>\n",
              "<p>3 rows × 46 columns</p>\n",
              "</div>"
            ],
            "text/plain": [
              "  action_type activity_comment  activity_id activity_properties  \\\n",
              "0        None             None      1918776                  []   \n",
              "1        None             None      1918815                  []   \n",
              "2        None             None      1918816                  []   \n",
              "\n",
              "  assay_chembl_id                                  assay_description  \\\n",
              "0    CHEMBL895768  Agonist activity at human TGR5 expressed in CH...   \n",
              "1    CHEMBL895768  Agonist activity at human TGR5 expressed in CH...   \n",
              "2    CHEMBL895768  Agonist activity at human TGR5 expressed in CH...   \n",
              "\n",
              "  assay_type assay_variant_accession assay_variant_mutation bao_endpoint  ...  \\\n",
              "0          F                    None                   None  BAO_0000188  ...   \n",
              "1          F                    None                   None  BAO_0000188  ...   \n",
              "2          F                    None                   None  BAO_0000188  ...   \n",
              "\n",
              "  target_organism                        target_pref_name target_tax_id  \\\n",
              "0    Homo sapiens  G-protein coupled bile acid receptor 1          9606   \n",
              "1    Homo sapiens  G-protein coupled bile acid receptor 1          9606   \n",
              "2    Homo sapiens  G-protein coupled bile acid receptor 1          9606   \n",
              "\n",
              "  text_value  toid  type units    uo_units upper_value  value  \n",
              "0       None  None  EC50    uM  UO_0000065        None  0.755  \n",
              "1       None  None  EC50    uM  UO_0000065        None   51.9  \n",
              "2       None  None  EC50    uM  UO_0000065        None   25.5  \n",
              "\n",
              "[3 rows x 46 columns]"
            ]
          },
          "execution_count": 9,
          "metadata": {},
          "output_type": "execute_result"
        }
      ],
      "source": [
        "df.head(3)"
      ]
    },
    {
      "cell_type": "markdown",
      "metadata": {
        "colab_type": "text",
        "id": "fQ78N26Fg15T"
      },
      "source": [
        "Finally we will save the resulting bioactivity data to a CSV file **bioactivity_data.csv**."
      ]
    },
    {
      "cell_type": "code",
      "execution_count": 10,
      "metadata": {
        "colab": {},
        "colab_type": "code",
        "id": "ZvUUEIVxTOH1"
      },
      "outputs": [],
      "source": [
        "df.to_csv('bioactivity_data_raw.csv', index=False)"
      ]
    },
    {
      "cell_type": "markdown",
      "metadata": {
        "colab_type": "text",
        "id": "_GXMpFNUOn_8"
      },
      "source": [
        "## **Handling missing data**\n",
        "If any compounds has missing value for the **standard_value** column then drop it"
      ]
    },
    {
      "cell_type": "code",
      "execution_count": 11,
      "metadata": {
        "colab": {
          "base_uri": "https://localhost:8080/",
          "height": 779
        },
        "colab_type": "code",
        "id": "hkVOdk6ZR396",
        "outputId": "4fa9b1f0-8315-4d3a-8c84-45a61add0196"
      },
      "outputs": [
        {
          "data": {
            "text/html": [
              "<div>\n",
              "<style scoped>\n",
              "    .dataframe tbody tr th:only-of-type {\n",
              "        vertical-align: middle;\n",
              "    }\n",
              "\n",
              "    .dataframe tbody tr th {\n",
              "        vertical-align: top;\n",
              "    }\n",
              "\n",
              "    .dataframe thead th {\n",
              "        text-align: right;\n",
              "    }\n",
              "</style>\n",
              "<table border=\"1\" class=\"dataframe\">\n",
              "  <thead>\n",
              "    <tr style=\"text-align: right;\">\n",
              "      <th></th>\n",
              "      <th>action_type</th>\n",
              "      <th>activity_comment</th>\n",
              "      <th>activity_id</th>\n",
              "      <th>activity_properties</th>\n",
              "      <th>assay_chembl_id</th>\n",
              "      <th>assay_description</th>\n",
              "      <th>assay_type</th>\n",
              "      <th>assay_variant_accession</th>\n",
              "      <th>assay_variant_mutation</th>\n",
              "      <th>bao_endpoint</th>\n",
              "      <th>...</th>\n",
              "      <th>target_organism</th>\n",
              "      <th>target_pref_name</th>\n",
              "      <th>target_tax_id</th>\n",
              "      <th>text_value</th>\n",
              "      <th>toid</th>\n",
              "      <th>type</th>\n",
              "      <th>units</th>\n",
              "      <th>uo_units</th>\n",
              "      <th>upper_value</th>\n",
              "      <th>value</th>\n",
              "    </tr>\n",
              "  </thead>\n",
              "  <tbody>\n",
              "    <tr>\n",
              "      <th>0</th>\n",
              "      <td>None</td>\n",
              "      <td>None</td>\n",
              "      <td>1918776</td>\n",
              "      <td>[]</td>\n",
              "      <td>CHEMBL895768</td>\n",
              "      <td>Agonist activity at human TGR5 expressed in CH...</td>\n",
              "      <td>F</td>\n",
              "      <td>None</td>\n",
              "      <td>None</td>\n",
              "      <td>BAO_0000188</td>\n",
              "      <td>...</td>\n",
              "      <td>Homo sapiens</td>\n",
              "      <td>G-protein coupled bile acid receptor 1</td>\n",
              "      <td>9606</td>\n",
              "      <td>None</td>\n",
              "      <td>None</td>\n",
              "      <td>EC50</td>\n",
              "      <td>uM</td>\n",
              "      <td>UO_0000065</td>\n",
              "      <td>None</td>\n",
              "      <td>0.755</td>\n",
              "    </tr>\n",
              "    <tr>\n",
              "      <th>1</th>\n",
              "      <td>None</td>\n",
              "      <td>None</td>\n",
              "      <td>1918815</td>\n",
              "      <td>[]</td>\n",
              "      <td>CHEMBL895768</td>\n",
              "      <td>Agonist activity at human TGR5 expressed in CH...</td>\n",
              "      <td>F</td>\n",
              "      <td>None</td>\n",
              "      <td>None</td>\n",
              "      <td>BAO_0000188</td>\n",
              "      <td>...</td>\n",
              "      <td>Homo sapiens</td>\n",
              "      <td>G-protein coupled bile acid receptor 1</td>\n",
              "      <td>9606</td>\n",
              "      <td>None</td>\n",
              "      <td>None</td>\n",
              "      <td>EC50</td>\n",
              "      <td>uM</td>\n",
              "      <td>UO_0000065</td>\n",
              "      <td>None</td>\n",
              "      <td>51.9</td>\n",
              "    </tr>\n",
              "    <tr>\n",
              "      <th>2</th>\n",
              "      <td>None</td>\n",
              "      <td>None</td>\n",
              "      <td>1918816</td>\n",
              "      <td>[]</td>\n",
              "      <td>CHEMBL895768</td>\n",
              "      <td>Agonist activity at human TGR5 expressed in CH...</td>\n",
              "      <td>F</td>\n",
              "      <td>None</td>\n",
              "      <td>None</td>\n",
              "      <td>BAO_0000188</td>\n",
              "      <td>...</td>\n",
              "      <td>Homo sapiens</td>\n",
              "      <td>G-protein coupled bile acid receptor 1</td>\n",
              "      <td>9606</td>\n",
              "      <td>None</td>\n",
              "      <td>None</td>\n",
              "      <td>EC50</td>\n",
              "      <td>uM</td>\n",
              "      <td>UO_0000065</td>\n",
              "      <td>None</td>\n",
              "      <td>25.5</td>\n",
              "    </tr>\n",
              "    <tr>\n",
              "      <th>3</th>\n",
              "      <td>None</td>\n",
              "      <td>None</td>\n",
              "      <td>1918817</td>\n",
              "      <td>[]</td>\n",
              "      <td>CHEMBL895768</td>\n",
              "      <td>Agonist activity at human TGR5 expressed in CH...</td>\n",
              "      <td>F</td>\n",
              "      <td>None</td>\n",
              "      <td>None</td>\n",
              "      <td>BAO_0000188</td>\n",
              "      <td>...</td>\n",
              "      <td>Homo sapiens</td>\n",
              "      <td>G-protein coupled bile acid receptor 1</td>\n",
              "      <td>9606</td>\n",
              "      <td>None</td>\n",
              "      <td>None</td>\n",
              "      <td>EC50</td>\n",
              "      <td>uM</td>\n",
              "      <td>UO_0000065</td>\n",
              "      <td>None</td>\n",
              "      <td>4.39</td>\n",
              "    </tr>\n",
              "    <tr>\n",
              "      <th>4</th>\n",
              "      <td>None</td>\n",
              "      <td>None</td>\n",
              "      <td>1918818</td>\n",
              "      <td>[]</td>\n",
              "      <td>CHEMBL895768</td>\n",
              "      <td>Agonist activity at human TGR5 expressed in CH...</td>\n",
              "      <td>F</td>\n",
              "      <td>None</td>\n",
              "      <td>None</td>\n",
              "      <td>BAO_0000188</td>\n",
              "      <td>...</td>\n",
              "      <td>Homo sapiens</td>\n",
              "      <td>G-protein coupled bile acid receptor 1</td>\n",
              "      <td>9606</td>\n",
              "      <td>None</td>\n",
              "      <td>None</td>\n",
              "      <td>EC50</td>\n",
              "      <td>uM</td>\n",
              "      <td>UO_0000065</td>\n",
              "      <td>None</td>\n",
              "      <td>0.095</td>\n",
              "    </tr>\n",
              "    <tr>\n",
              "      <th>...</th>\n",
              "      <td>...</td>\n",
              "      <td>...</td>\n",
              "      <td>...</td>\n",
              "      <td>...</td>\n",
              "      <td>...</td>\n",
              "      <td>...</td>\n",
              "      <td>...</td>\n",
              "      <td>...</td>\n",
              "      <td>...</td>\n",
              "      <td>...</td>\n",
              "      <td>...</td>\n",
              "      <td>...</td>\n",
              "      <td>...</td>\n",
              "      <td>...</td>\n",
              "      <td>...</td>\n",
              "      <td>...</td>\n",
              "      <td>...</td>\n",
              "      <td>...</td>\n",
              "      <td>...</td>\n",
              "      <td>...</td>\n",
              "      <td>...</td>\n",
              "    </tr>\n",
              "    <tr>\n",
              "      <th>913</th>\n",
              "      <td>{'action_type': 'AGONIST', 'description': 'Bin...</td>\n",
              "      <td>None</td>\n",
              "      <td>24792970</td>\n",
              "      <td>[{'comments': None, 'relation': '=', 'result_f...</td>\n",
              "      <td>CHEMBL5133049</td>\n",
              "      <td>Agonist activity against human GPBAR1 expresse...</td>\n",
              "      <td>F</td>\n",
              "      <td>None</td>\n",
              "      <td>None</td>\n",
              "      <td>BAO_0000188</td>\n",
              "      <td>...</td>\n",
              "      <td>Homo sapiens</td>\n",
              "      <td>G-protein coupled bile acid receptor 1</td>\n",
              "      <td>9606</td>\n",
              "      <td>None</td>\n",
              "      <td>None</td>\n",
              "      <td>EC50</td>\n",
              "      <td>uM</td>\n",
              "      <td>UO_0000065</td>\n",
              "      <td>None</td>\n",
              "      <td>0.1</td>\n",
              "    </tr>\n",
              "    <tr>\n",
              "      <th>914</th>\n",
              "      <td>{'action_type': 'AGONIST', 'description': 'Bin...</td>\n",
              "      <td>None</td>\n",
              "      <td>24792971</td>\n",
              "      <td>[{'comments': None, 'relation': '=', 'result_f...</td>\n",
              "      <td>CHEMBL5133049</td>\n",
              "      <td>Agonist activity against human GPBAR1 expresse...</td>\n",
              "      <td>F</td>\n",
              "      <td>None</td>\n",
              "      <td>None</td>\n",
              "      <td>BAO_0000188</td>\n",
              "      <td>...</td>\n",
              "      <td>Homo sapiens</td>\n",
              "      <td>G-protein coupled bile acid receptor 1</td>\n",
              "      <td>9606</td>\n",
              "      <td>None</td>\n",
              "      <td>None</td>\n",
              "      <td>EC50</td>\n",
              "      <td>uM</td>\n",
              "      <td>UO_0000065</td>\n",
              "      <td>None</td>\n",
              "      <td>0.5</td>\n",
              "    </tr>\n",
              "    <tr>\n",
              "      <th>915</th>\n",
              "      <td>{'action_type': 'AGONIST', 'description': 'Bin...</td>\n",
              "      <td>None</td>\n",
              "      <td>24792972</td>\n",
              "      <td>[{'comments': None, 'relation': '=', 'result_f...</td>\n",
              "      <td>CHEMBL5133049</td>\n",
              "      <td>Agonist activity against human GPBAR1 expresse...</td>\n",
              "      <td>F</td>\n",
              "      <td>None</td>\n",
              "      <td>None</td>\n",
              "      <td>BAO_0000188</td>\n",
              "      <td>...</td>\n",
              "      <td>Homo sapiens</td>\n",
              "      <td>G-protein coupled bile acid receptor 1</td>\n",
              "      <td>9606</td>\n",
              "      <td>None</td>\n",
              "      <td>None</td>\n",
              "      <td>EC50</td>\n",
              "      <td>uM</td>\n",
              "      <td>UO_0000065</td>\n",
              "      <td>None</td>\n",
              "      <td>0.17</td>\n",
              "    </tr>\n",
              "    <tr>\n",
              "      <th>916</th>\n",
              "      <td>{'action_type': 'AGONIST', 'description': 'Bin...</td>\n",
              "      <td>None</td>\n",
              "      <td>24792973</td>\n",
              "      <td>[{'comments': None, 'relation': '=', 'result_f...</td>\n",
              "      <td>CHEMBL5133049</td>\n",
              "      <td>Agonist activity against human GPBAR1 expresse...</td>\n",
              "      <td>F</td>\n",
              "      <td>None</td>\n",
              "      <td>None</td>\n",
              "      <td>BAO_0000188</td>\n",
              "      <td>...</td>\n",
              "      <td>Homo sapiens</td>\n",
              "      <td>G-protein coupled bile acid receptor 1</td>\n",
              "      <td>9606</td>\n",
              "      <td>None</td>\n",
              "      <td>None</td>\n",
              "      <td>EC50</td>\n",
              "      <td>uM</td>\n",
              "      <td>UO_0000065</td>\n",
              "      <td>None</td>\n",
              "      <td>1.8</td>\n",
              "    </tr>\n",
              "    <tr>\n",
              "      <th>917</th>\n",
              "      <td>None</td>\n",
              "      <td>None</td>\n",
              "      <td>24886259</td>\n",
              "      <td>[]</td>\n",
              "      <td>CHEMBL5157327</td>\n",
              "      <td>Agonist activity in human GPBAR1 assessed as i...</td>\n",
              "      <td>F</td>\n",
              "      <td>None</td>\n",
              "      <td>None</td>\n",
              "      <td>BAO_0000188</td>\n",
              "      <td>...</td>\n",
              "      <td>Homo sapiens</td>\n",
              "      <td>G-protein coupled bile acid receptor 1</td>\n",
              "      <td>9606</td>\n",
              "      <td>None</td>\n",
              "      <td>None</td>\n",
              "      <td>EC50</td>\n",
              "      <td>uM</td>\n",
              "      <td>UO_0000065</td>\n",
              "      <td>None</td>\n",
              "      <td>10.0</td>\n",
              "    </tr>\n",
              "  </tbody>\n",
              "</table>\n",
              "<p>909 rows × 46 columns</p>\n",
              "</div>"
            ],
            "text/plain": [
              "                                           action_type activity_comment  \\\n",
              "0                                                 None             None   \n",
              "1                                                 None             None   \n",
              "2                                                 None             None   \n",
              "3                                                 None             None   \n",
              "4                                                 None             None   \n",
              "..                                                 ...              ...   \n",
              "913  {'action_type': 'AGONIST', 'description': 'Bin...             None   \n",
              "914  {'action_type': 'AGONIST', 'description': 'Bin...             None   \n",
              "915  {'action_type': 'AGONIST', 'description': 'Bin...             None   \n",
              "916  {'action_type': 'AGONIST', 'description': 'Bin...             None   \n",
              "917                                               None             None   \n",
              "\n",
              "     activity_id                                activity_properties  \\\n",
              "0        1918776                                                 []   \n",
              "1        1918815                                                 []   \n",
              "2        1918816                                                 []   \n",
              "3        1918817                                                 []   \n",
              "4        1918818                                                 []   \n",
              "..           ...                                                ...   \n",
              "913     24792970  [{'comments': None, 'relation': '=', 'result_f...   \n",
              "914     24792971  [{'comments': None, 'relation': '=', 'result_f...   \n",
              "915     24792972  [{'comments': None, 'relation': '=', 'result_f...   \n",
              "916     24792973  [{'comments': None, 'relation': '=', 'result_f...   \n",
              "917     24886259                                                 []   \n",
              "\n",
              "    assay_chembl_id                                  assay_description  \\\n",
              "0      CHEMBL895768  Agonist activity at human TGR5 expressed in CH...   \n",
              "1      CHEMBL895768  Agonist activity at human TGR5 expressed in CH...   \n",
              "2      CHEMBL895768  Agonist activity at human TGR5 expressed in CH...   \n",
              "3      CHEMBL895768  Agonist activity at human TGR5 expressed in CH...   \n",
              "4      CHEMBL895768  Agonist activity at human TGR5 expressed in CH...   \n",
              "..              ...                                                ...   \n",
              "913   CHEMBL5133049  Agonist activity against human GPBAR1 expresse...   \n",
              "914   CHEMBL5133049  Agonist activity against human GPBAR1 expresse...   \n",
              "915   CHEMBL5133049  Agonist activity against human GPBAR1 expresse...   \n",
              "916   CHEMBL5133049  Agonist activity against human GPBAR1 expresse...   \n",
              "917   CHEMBL5157327  Agonist activity in human GPBAR1 assessed as i...   \n",
              "\n",
              "    assay_type assay_variant_accession assay_variant_mutation bao_endpoint  \\\n",
              "0            F                    None                   None  BAO_0000188   \n",
              "1            F                    None                   None  BAO_0000188   \n",
              "2            F                    None                   None  BAO_0000188   \n",
              "3            F                    None                   None  BAO_0000188   \n",
              "4            F                    None                   None  BAO_0000188   \n",
              "..         ...                     ...                    ...          ...   \n",
              "913          F                    None                   None  BAO_0000188   \n",
              "914          F                    None                   None  BAO_0000188   \n",
              "915          F                    None                   None  BAO_0000188   \n",
              "916          F                    None                   None  BAO_0000188   \n",
              "917          F                    None                   None  BAO_0000188   \n",
              "\n",
              "     ... target_organism                        target_pref_name  \\\n",
              "0    ...    Homo sapiens  G-protein coupled bile acid receptor 1   \n",
              "1    ...    Homo sapiens  G-protein coupled bile acid receptor 1   \n",
              "2    ...    Homo sapiens  G-protein coupled bile acid receptor 1   \n",
              "3    ...    Homo sapiens  G-protein coupled bile acid receptor 1   \n",
              "4    ...    Homo sapiens  G-protein coupled bile acid receptor 1   \n",
              "..   ...             ...                                     ...   \n",
              "913  ...    Homo sapiens  G-protein coupled bile acid receptor 1   \n",
              "914  ...    Homo sapiens  G-protein coupled bile acid receptor 1   \n",
              "915  ...    Homo sapiens  G-protein coupled bile acid receptor 1   \n",
              "916  ...    Homo sapiens  G-protein coupled bile acid receptor 1   \n",
              "917  ...    Homo sapiens  G-protein coupled bile acid receptor 1   \n",
              "\n",
              "    target_tax_id text_value  toid  type units    uo_units upper_value  value  \n",
              "0            9606       None  None  EC50    uM  UO_0000065        None  0.755  \n",
              "1            9606       None  None  EC50    uM  UO_0000065        None   51.9  \n",
              "2            9606       None  None  EC50    uM  UO_0000065        None   25.5  \n",
              "3            9606       None  None  EC50    uM  UO_0000065        None   4.39  \n",
              "4            9606       None  None  EC50    uM  UO_0000065        None  0.095  \n",
              "..            ...        ...   ...   ...   ...         ...         ...    ...  \n",
              "913          9606       None  None  EC50    uM  UO_0000065        None    0.1  \n",
              "914          9606       None  None  EC50    uM  UO_0000065        None    0.5  \n",
              "915          9606       None  None  EC50    uM  UO_0000065        None   0.17  \n",
              "916          9606       None  None  EC50    uM  UO_0000065        None    1.8  \n",
              "917          9606       None  None  EC50    uM  UO_0000065        None   10.0  \n",
              "\n",
              "[909 rows x 46 columns]"
            ]
          },
          "execution_count": 11,
          "metadata": {},
          "output_type": "execute_result"
        }
      ],
      "source": [
        "df2 = df[df.standard_value.notna()]\n",
        "df2"
      ]
    },
    {
      "cell_type": "markdown",
      "metadata": {
        "colab_type": "text",
        "id": "Y-qNsUlmjS25"
      },
      "source": [
        "Apparently, for this dataset there is no missing data. But we can use the above code cell for bioactivity data of other target protein."
      ]
    },
    {
      "cell_type": "markdown",
      "metadata": {
        "colab_type": "text",
        "id": "5H4sSFAWhV9B"
      },
      "source": [
        "## **Data pre-processing of the bioactivity data**"
      ]
    },
    {
      "cell_type": "markdown",
      "metadata": {
        "colab_type": "text",
        "id": "tO22XVlzhkXR"
      },
      "source": [
        "### **Labeling compounds as either being active, inactive or intermediate**\n",
        "The bioactivity data is in the EC50 unit. Compounds having values of less than 1000 nM will be considered to be **active** while those greater than 10,000 nM will be considered to be **inactive**. As for those values in between 1,000 and 10,000 nM will be referred to as **intermediate**. "
      ]
    },
    {
      "cell_type": "code",
      "execution_count": 12,
      "metadata": {
        "colab": {},
        "colab_type": "code",
        "id": "1E8rz7oMOd-5"
      },
      "outputs": [],
      "source": [
        "bioactivity_class = []\n",
        "for i in df2.standard_value:\n",
        "  if float(i) >= 10000:\n",
        "    bioactivity_class.append(\"inactive\")\n",
        "  elif float(i) <= 1000:\n",
        "    bioactivity_class.append(\"active\")\n",
        "  #else:\n",
        "  #  bioactivity_class.append(\"intermediate\")"
      ]
    },
    {
      "cell_type": "markdown",
      "metadata": {
        "colab_type": "text",
        "id": "Nv2dzid_hzKd"
      },
      "source": [
        "### **Combine the 3 columns (molecule_chembl_id,canonical_smiles,standard_value) and bioactivity_class into a DataFrame**"
      ]
    },
    {
      "cell_type": "code",
      "execution_count": 13,
      "metadata": {
        "colab": {
          "base_uri": "https://localhost:8080/",
          "height": 419
        },
        "colab_type": "code",
        "id": "0NCLYmrASgha",
        "outputId": "f9e7f7b7-6109-48b3-be3f-372e129a370a"
      },
      "outputs": [
        {
          "data": {
            "text/html": [
              "<div>\n",
              "<style scoped>\n",
              "    .dataframe tbody tr th:only-of-type {\n",
              "        vertical-align: middle;\n",
              "    }\n",
              "\n",
              "    .dataframe tbody tr th {\n",
              "        vertical-align: top;\n",
              "    }\n",
              "\n",
              "    .dataframe thead th {\n",
              "        text-align: right;\n",
              "    }\n",
              "</style>\n",
              "<table border=\"1\" class=\"dataframe\">\n",
              "  <thead>\n",
              "    <tr style=\"text-align: right;\">\n",
              "      <th></th>\n",
              "      <th>molecule_chembl_id</th>\n",
              "      <th>canonical_smiles</th>\n",
              "      <th>standard_value</th>\n",
              "    </tr>\n",
              "  </thead>\n",
              "  <tbody>\n",
              "    <tr>\n",
              "      <th>0</th>\n",
              "      <td>CHEMBL566315</td>\n",
              "      <td>CC[C@H]1[C@@H](O)[C@@H]2[C@H](CC[C@]3(C)[C@@H]...</td>\n",
              "      <td>755.0</td>\n",
              "    </tr>\n",
              "    <tr>\n",
              "      <th>1</th>\n",
              "      <td>CHEMBL388679</td>\n",
              "      <td>C[C@H](C[C@@H](C)[C@H]1CC[C@H]2[C@@H]3[C@H](O)...</td>\n",
              "      <td>51900.0</td>\n",
              "    </tr>\n",
              "    <tr>\n",
              "      <th>2</th>\n",
              "      <td>CHEMBL245001</td>\n",
              "      <td>C[C@H](C[C@@H](C)[C@H]1CC[C@H]2[C@@H]3[C@H](O)...</td>\n",
              "      <td>25500.0</td>\n",
              "    </tr>\n",
              "    <tr>\n",
              "      <th>3</th>\n",
              "      <td>CHEMBL266356</td>\n",
              "      <td>C[C@H](C[C@H](C)C(=O)O)[C@H]1CC[C@H]2[C@@H]3[C...</td>\n",
              "      <td>4390.0</td>\n",
              "    </tr>\n",
              "    <tr>\n",
              "      <th>4</th>\n",
              "      <td>CHEMBL244785</td>\n",
              "      <td>CC[C@@H]1C2C[C@H](O)CC[C@]2(C)[C@H]2CC[C@]3(C)...</td>\n",
              "      <td>95.0</td>\n",
              "    </tr>\n",
              "    <tr>\n",
              "      <th>...</th>\n",
              "      <td>...</td>\n",
              "      <td>...</td>\n",
              "      <td>...</td>\n",
              "    </tr>\n",
              "    <tr>\n",
              "      <th>913</th>\n",
              "      <td>CHEMBL5192002</td>\n",
              "      <td>CCC(C)Oc1cccc(OCc2ccc3ccccc3n2)c1</td>\n",
              "      <td>100.0</td>\n",
              "    </tr>\n",
              "    <tr>\n",
              "      <th>914</th>\n",
              "      <td>CHEMBL18775</td>\n",
              "      <td>CCCCOc1cccc(OCc2ccc3ccccc3n2)c1</td>\n",
              "      <td>500.0</td>\n",
              "    </tr>\n",
              "    <tr>\n",
              "      <th>915</th>\n",
              "      <td>CHEMBL5173976</td>\n",
              "      <td>CCC(C)COc1cccc(OCc2ccc3ccccc3n2)c1</td>\n",
              "      <td>170.0</td>\n",
              "    </tr>\n",
              "    <tr>\n",
              "      <th>916</th>\n",
              "      <td>CHEMBL5172427</td>\n",
              "      <td>CCCCCOc1cccc(OCc2ccc3ccccc3n2)c1</td>\n",
              "      <td>1800.0</td>\n",
              "    </tr>\n",
              "    <tr>\n",
              "      <th>917</th>\n",
              "      <td>CHEMBL5171962</td>\n",
              "      <td>O=C(O)c1ccc2c(c1)Oc1ccc(OCc3c(-c4c(Cl)cccc4Cl)...</td>\n",
              "      <td>10000.0</td>\n",
              "    </tr>\n",
              "  </tbody>\n",
              "</table>\n",
              "<p>909 rows × 3 columns</p>\n",
              "</div>"
            ],
            "text/plain": [
              "    molecule_chembl_id                                   canonical_smiles  \\\n",
              "0         CHEMBL566315  CC[C@H]1[C@@H](O)[C@@H]2[C@H](CC[C@]3(C)[C@@H]...   \n",
              "1         CHEMBL388679  C[C@H](C[C@@H](C)[C@H]1CC[C@H]2[C@@H]3[C@H](O)...   \n",
              "2         CHEMBL245001  C[C@H](C[C@@H](C)[C@H]1CC[C@H]2[C@@H]3[C@H](O)...   \n",
              "3         CHEMBL266356  C[C@H](C[C@H](C)C(=O)O)[C@H]1CC[C@H]2[C@@H]3[C...   \n",
              "4         CHEMBL244785  CC[C@@H]1C2C[C@H](O)CC[C@]2(C)[C@H]2CC[C@]3(C)...   \n",
              "..                 ...                                                ...   \n",
              "913      CHEMBL5192002                  CCC(C)Oc1cccc(OCc2ccc3ccccc3n2)c1   \n",
              "914        CHEMBL18775                    CCCCOc1cccc(OCc2ccc3ccccc3n2)c1   \n",
              "915      CHEMBL5173976                 CCC(C)COc1cccc(OCc2ccc3ccccc3n2)c1   \n",
              "916      CHEMBL5172427                   CCCCCOc1cccc(OCc2ccc3ccccc3n2)c1   \n",
              "917      CHEMBL5171962  O=C(O)c1ccc2c(c1)Oc1ccc(OCc3c(-c4c(Cl)cccc4Cl)...   \n",
              "\n",
              "    standard_value  \n",
              "0            755.0  \n",
              "1          51900.0  \n",
              "2          25500.0  \n",
              "3           4390.0  \n",
              "4             95.0  \n",
              "..             ...  \n",
              "913          100.0  \n",
              "914          500.0  \n",
              "915          170.0  \n",
              "916         1800.0  \n",
              "917        10000.0  \n",
              "\n",
              "[909 rows x 3 columns]"
            ]
          },
          "execution_count": 13,
          "metadata": {},
          "output_type": "execute_result"
        }
      ],
      "source": [
        "selection = ['molecule_chembl_id','canonical_smiles','standard_value']\n",
        "df3 = df2[selection]\n",
        "df3"
      ]
    },
    {
      "cell_type": "code",
      "execution_count": 14,
      "metadata": {
        "colab": {
          "base_uri": "https://localhost:8080/",
          "height": 419
        },
        "colab_type": "code",
        "id": "Li64nUiZQ-y2",
        "outputId": "3b92122f-8a72-4282-a499-f3ef276b6c87"
      },
      "outputs": [
        {
          "data": {
            "text/html": [
              "<div>\n",
              "<style scoped>\n",
              "    .dataframe tbody tr th:only-of-type {\n",
              "        vertical-align: middle;\n",
              "    }\n",
              "\n",
              "    .dataframe tbody tr th {\n",
              "        vertical-align: top;\n",
              "    }\n",
              "\n",
              "    .dataframe thead th {\n",
              "        text-align: right;\n",
              "    }\n",
              "</style>\n",
              "<table border=\"1\" class=\"dataframe\">\n",
              "  <thead>\n",
              "    <tr style=\"text-align: right;\">\n",
              "      <th></th>\n",
              "      <th>molecule_chembl_id</th>\n",
              "      <th>canonical_smiles</th>\n",
              "      <th>standard_value</th>\n",
              "      <th>bioactivity_class</th>\n",
              "    </tr>\n",
              "  </thead>\n",
              "  <tbody>\n",
              "    <tr>\n",
              "      <th>0</th>\n",
              "      <td>CHEMBL566315</td>\n",
              "      <td>CC[C@H]1[C@@H](O)[C@@H]2[C@H](CC[C@]3(C)[C@@H]...</td>\n",
              "      <td>755.0</td>\n",
              "      <td>active</td>\n",
              "    </tr>\n",
              "    <tr>\n",
              "      <th>1</th>\n",
              "      <td>CHEMBL388679</td>\n",
              "      <td>C[C@H](C[C@@H](C)[C@H]1CC[C@H]2[C@@H]3[C@H](O)...</td>\n",
              "      <td>51900.0</td>\n",
              "      <td>inactive</td>\n",
              "    </tr>\n",
              "    <tr>\n",
              "      <th>2</th>\n",
              "      <td>CHEMBL245001</td>\n",
              "      <td>C[C@H](C[C@@H](C)[C@H]1CC[C@H]2[C@@H]3[C@H](O)...</td>\n",
              "      <td>25500.0</td>\n",
              "      <td>inactive</td>\n",
              "    </tr>\n",
              "    <tr>\n",
              "      <th>3</th>\n",
              "      <td>CHEMBL266356</td>\n",
              "      <td>C[C@H](C[C@H](C)C(=O)O)[C@H]1CC[C@H]2[C@@H]3[C...</td>\n",
              "      <td>4390.0</td>\n",
              "      <td>active</td>\n",
              "    </tr>\n",
              "    <tr>\n",
              "      <th>4</th>\n",
              "      <td>CHEMBL244785</td>\n",
              "      <td>CC[C@@H]1C2C[C@H](O)CC[C@]2(C)[C@H]2CC[C@]3(C)...</td>\n",
              "      <td>95.0</td>\n",
              "      <td>active</td>\n",
              "    </tr>\n",
              "    <tr>\n",
              "      <th>...</th>\n",
              "      <td>...</td>\n",
              "      <td>...</td>\n",
              "      <td>...</td>\n",
              "      <td>...</td>\n",
              "    </tr>\n",
              "    <tr>\n",
              "      <th>917</th>\n",
              "      <td>CHEMBL5171962</td>\n",
              "      <td>O=C(O)c1ccc2c(c1)Oc1ccc(OCc3c(-c4c(Cl)cccc4Cl)...</td>\n",
              "      <td>10000.0</td>\n",
              "      <td>NaN</td>\n",
              "    </tr>\n",
              "    <tr>\n",
              "      <th>545</th>\n",
              "      <td>NaN</td>\n",
              "      <td>NaN</td>\n",
              "      <td>NaN</td>\n",
              "      <td>active</td>\n",
              "    </tr>\n",
              "    <tr>\n",
              "      <th>560</th>\n",
              "      <td>NaN</td>\n",
              "      <td>NaN</td>\n",
              "      <td>NaN</td>\n",
              "      <td>active</td>\n",
              "    </tr>\n",
              "    <tr>\n",
              "      <th>676</th>\n",
              "      <td>NaN</td>\n",
              "      <td>NaN</td>\n",
              "      <td>NaN</td>\n",
              "      <td>active</td>\n",
              "    </tr>\n",
              "    <tr>\n",
              "      <th>686</th>\n",
              "      <td>NaN</td>\n",
              "      <td>NaN</td>\n",
              "      <td>NaN</td>\n",
              "      <td>active</td>\n",
              "    </tr>\n",
              "  </tbody>\n",
              "</table>\n",
              "<p>913 rows × 4 columns</p>\n",
              "</div>"
            ],
            "text/plain": [
              "    molecule_chembl_id                                   canonical_smiles  \\\n",
              "0         CHEMBL566315  CC[C@H]1[C@@H](O)[C@@H]2[C@H](CC[C@]3(C)[C@@H]...   \n",
              "1         CHEMBL388679  C[C@H](C[C@@H](C)[C@H]1CC[C@H]2[C@@H]3[C@H](O)...   \n",
              "2         CHEMBL245001  C[C@H](C[C@@H](C)[C@H]1CC[C@H]2[C@@H]3[C@H](O)...   \n",
              "3         CHEMBL266356  C[C@H](C[C@H](C)C(=O)O)[C@H]1CC[C@H]2[C@@H]3[C...   \n",
              "4         CHEMBL244785  CC[C@@H]1C2C[C@H](O)CC[C@]2(C)[C@H]2CC[C@]3(C)...   \n",
              "..                 ...                                                ...   \n",
              "917      CHEMBL5171962  O=C(O)c1ccc2c(c1)Oc1ccc(OCc3c(-c4c(Cl)cccc4Cl)...   \n",
              "545                NaN                                                NaN   \n",
              "560                NaN                                                NaN   \n",
              "676                NaN                                                NaN   \n",
              "686                NaN                                                NaN   \n",
              "\n",
              "    standard_value bioactivity_class  \n",
              "0            755.0            active  \n",
              "1          51900.0          inactive  \n",
              "2          25500.0          inactive  \n",
              "3           4390.0            active  \n",
              "4             95.0            active  \n",
              "..             ...               ...  \n",
              "917        10000.0               NaN  \n",
              "545            NaN            active  \n",
              "560            NaN            active  \n",
              "676            NaN            active  \n",
              "686            NaN            active  \n",
              "\n",
              "[913 rows x 4 columns]"
            ]
          },
          "execution_count": 14,
          "metadata": {},
          "output_type": "execute_result"
        }
      ],
      "source": [
        "bioactivity_class = pd.Series(bioactivity_class, name='bioactivity_class')\n",
        "df4 = pd.concat([df3, bioactivity_class], axis=1)\n",
        "df4"
      ]
    },
    {
      "cell_type": "markdown",
      "metadata": {
        "colab_type": "text",
        "id": "9tlgyexWh7YJ"
      },
      "source": [
        "Saves dataframe to CSV file"
      ]
    },
    {
      "cell_type": "code",
      "execution_count": 15,
      "metadata": {
        "colab": {},
        "colab_type": "code",
        "id": "nSNia7suXstR"
      },
      "outputs": [],
      "source": [
        "df4.to_csv('bioactivity_data_preprocessed.csv', index=False)"
      ]
    },
    {
      "cell_type": "markdown",
      "metadata": {
        "colab_type": "text",
        "id": "ZywB5K_Dlawb"
      },
      "source": [
        "---"
      ]
    }
  ],
  "metadata": {
    "colab": {
      "collapsed_sections": [],
      "name": "CDD-ML-Part-1-Bioactivity-Data-Concised.ipynb",
      "provenance": []
    },
    "kernelspec": {
      "display_name": "Python 3",
      "name": "python3"
    },
    "language_info": {
      "codemirror_mode": {
        "name": "ipython",
        "version": 3
      },
      "file_extension": ".py",
      "mimetype": "text/x-python",
      "name": "python",
      "nbconvert_exporter": "python",
      "pygments_lexer": "ipython3",
      "version": "3.10.11"
    }
  },
  "nbformat": 4,
  "nbformat_minor": 0
}
