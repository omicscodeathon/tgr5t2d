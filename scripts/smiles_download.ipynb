{
 "cells": [
  {
   "cell_type": "code",
   "execution_count": 2,
   "id": "1aea16ac",
   "metadata": {},
   "outputs": [
    {
     "name": "stdout",
     "output_type": "stream",
     "text": [
      "Defaulting to user installation because normal site-packages is not writeable\n",
      "Requirement already satisfied: pubchempy in c:\\users\\moses\\appdata\\roaming\\python\\python310\\site-packages (1.0.4)\n"
     ]
    },
    {
     "name": "stderr",
     "output_type": "stream",
     "text": [
      "WARNING: Ignoring invalid distribution -atplotlib (c:\\users\\moses\\appdata\\roaming\\python\\python310\\site-packages)\n",
      "WARNING: Ignoring invalid distribution -atplotlib (c:\\users\\moses\\appdata\\roaming\\python\\python310\\site-packages)\n",
      "WARNING: Ignoring invalid distribution -atplotlib (c:\\users\\moses\\appdata\\roaming\\python\\python310\\site-packages)\n",
      "WARNING: Ignoring invalid distribution -atplotlib (c:\\users\\moses\\appdata\\roaming\\python\\python310\\site-packages)\n",
      "\n",
      "[notice] A new release of pip is available: 23.3.1 -> 24.0\n",
      "[notice] To update, run: python.exe -m pip install --upgrade pip\n"
     ]
    }
   ],
   "source": [
    "# Install this\n",
    "!pip install pubchempy\n"
   ]
  },
  {
   "cell_type": "code",
   "execution_count": 3,
   "id": "ab6afcf4",
   "metadata": {},
   "outputs": [],
   "source": [
    "# import all the libaries to use\n",
    "import pubchempy as pcp\n",
    "import pandas as pd\n"
   ]
  },
  {
   "cell_type": "code",
   "execution_count": 4,
   "id": "91afb84c",
   "metadata": {},
   "outputs": [
    {
     "name": "stderr",
     "output_type": "stream",
     "text": [
      "C:\\Users\\Moses\\AppData\\Local\\Temp\\ipykernel_5028\\1792395575.py:2: DtypeWarning: Columns (1) have mixed types. Specify dtype option on import or set low_memory=False.\n",
      "  df = pd.read_csv('./predictions/all_predictions.CSV')\n"
     ]
    }
   ],
   "source": [
    "# Read the CSV file containing compound IDs in this case the other file i sent to you\n",
    "df = pd.read_csv('./predictions/all_predictions.CSV')"
   ]
  },
  {
   "cell_type": "code",
   "execution_count": 5,
   "id": "9ed7dd93",
   "metadata": {},
   "outputs": [
    {
     "data": {
      "text/html": [
       "<div>\n",
       "<style scoped>\n",
       "    .dataframe tbody tr th:only-of-type {\n",
       "        vertical-align: middle;\n",
       "    }\n",
       "\n",
       "    .dataframe tbody tr th {\n",
       "        vertical-align: top;\n",
       "    }\n",
       "\n",
       "    .dataframe thead th {\n",
       "        text-align: right;\n",
       "    }\n",
       "</style>\n",
       "<table border=\"1\" class=\"dataframe\">\n",
       "  <thead>\n",
       "    <tr style=\"text-align: right;\">\n",
       "      <th></th>\n",
       "      <th>molecule_name</th>\n",
       "      <th>pEC50</th>\n",
       "    </tr>\n",
       "  </thead>\n",
       "  <tbody>\n",
       "    <tr>\n",
       "      <th>0</th>\n",
       "      <td>CNP0000001</td>\n",
       "      <td>5.4122664</td>\n",
       "    </tr>\n",
       "    <tr>\n",
       "      <th>1</th>\n",
       "      <td>CNP0000002</td>\n",
       "      <td>6.084739974</td>\n",
       "    </tr>\n",
       "    <tr>\n",
       "      <th>2</th>\n",
       "      <td>CNP0000003</td>\n",
       "      <td>5.483882572</td>\n",
       "    </tr>\n",
       "    <tr>\n",
       "      <th>3</th>\n",
       "      <td>CNP0000004</td>\n",
       "      <td>5.539242389</td>\n",
       "    </tr>\n",
       "    <tr>\n",
       "      <th>4</th>\n",
       "      <td>CNP0000005</td>\n",
       "      <td>6.527153045</td>\n",
       "    </tr>\n",
       "    <tr>\n",
       "      <th>5</th>\n",
       "      <td>CNP0000006</td>\n",
       "      <td>5.538999598</td>\n",
       "    </tr>\n",
       "    <tr>\n",
       "      <th>6</th>\n",
       "      <td>CNP0000007</td>\n",
       "      <td>6.66115509</td>\n",
       "    </tr>\n",
       "    <tr>\n",
       "      <th>7</th>\n",
       "      <td>CNP0000008</td>\n",
       "      <td>5.552351159</td>\n",
       "    </tr>\n",
       "    <tr>\n",
       "      <th>8</th>\n",
       "      <td>CNP0000009</td>\n",
       "      <td>5.615629912</td>\n",
       "    </tr>\n",
       "    <tr>\n",
       "      <th>9</th>\n",
       "      <td>CNP0000010</td>\n",
       "      <td>5.877515656</td>\n",
       "    </tr>\n",
       "  </tbody>\n",
       "</table>\n",
       "</div>"
      ],
      "text/plain": [
       "  molecule_name        pEC50\n",
       "0    CNP0000001    5.4122664\n",
       "1    CNP0000002  6.084739974\n",
       "2    CNP0000003  5.483882572\n",
       "3    CNP0000004  5.539242389\n",
       "4    CNP0000005  6.527153045\n",
       "5    CNP0000006  5.538999598\n",
       "6    CNP0000007   6.66115509\n",
       "7    CNP0000008  5.552351159\n",
       "8    CNP0000009  5.615629912\n",
       "9    CNP0000010  5.877515656"
      ]
     },
     "execution_count": 5,
     "metadata": {},
     "output_type": "execute_result"
    }
   ],
   "source": [
    "df.head(10)"
   ]
  },
  {
   "cell_type": "markdown",
   "id": "71badfca",
   "metadata": {},
   "source": [
    "# * we ar goint to select the pEC50 values theat range from 4 t o 4.9\n",
    "## * these will be the only ones we download"
   ]
  },
  {
   "cell_type": "code",
   "execution_count": 6,
   "id": "3c31452e",
   "metadata": {},
   "outputs": [],
   "source": [
    "# Convert 'pEC50' column to numeric\n",
    "df['pEC50'] = pd.to_numeric(df['pEC50'], errors='coerce')\n",
    "\n",
    "# Filter rows where 'pEC50' values are between 4 and 4.9\n",
    "selected_rows = df[(df['pEC50'] >= 4) & (df['pEC50'] <= 4.9)]\n",
    "\n"
   ]
  },
  {
   "cell_type": "code",
   "execution_count": 7,
   "id": "bfad9425",
   "metadata": {},
   "outputs": [
    {
     "name": "stdout",
     "output_type": "stream",
     "text": [
      "<class 'pandas.core.frame.DataFrame'>\n",
      "RangeIndex: 340364 entries, 0 to 340363\n",
      "Data columns (total 2 columns):\n",
      " #   Column         Non-Null Count   Dtype  \n",
      "---  ------         --------------   -----  \n",
      " 0   molecule_name  340364 non-null  object \n",
      " 1   pEC50          328159 non-null  float64\n",
      "dtypes: float64(1), object(1)\n",
      "memory usage: 5.2+ MB\n"
     ]
    }
   ],
   "source": [
    "df.info()"
   ]
  },
  {
   "cell_type": "code",
   "execution_count": 8,
   "id": "59a2b4fa",
   "metadata": {},
   "outputs": [
    {
     "data": {
      "text/html": [
       "<div>\n",
       "<style scoped>\n",
       "    .dataframe tbody tr th:only-of-type {\n",
       "        vertical-align: middle;\n",
       "    }\n",
       "\n",
       "    .dataframe tbody tr th {\n",
       "        vertical-align: top;\n",
       "    }\n",
       "\n",
       "    .dataframe thead th {\n",
       "        text-align: right;\n",
       "    }\n",
       "</style>\n",
       "<table border=\"1\" class=\"dataframe\">\n",
       "  <thead>\n",
       "    <tr style=\"text-align: right;\">\n",
       "      <th></th>\n",
       "      <th>molecule_name</th>\n",
       "      <th>pEC50</th>\n",
       "    </tr>\n",
       "  </thead>\n",
       "  <tbody>\n",
       "    <tr>\n",
       "      <th>90</th>\n",
       "      <td>CNP0000098</td>\n",
       "      <td>4.853605</td>\n",
       "    </tr>\n",
       "    <tr>\n",
       "      <th>91</th>\n",
       "      <td>CNP0000099</td>\n",
       "      <td>4.883674</td>\n",
       "    </tr>\n",
       "    <tr>\n",
       "      <th>583</th>\n",
       "      <td>CNP0008985</td>\n",
       "      <td>4.867765</td>\n",
       "    </tr>\n",
       "    <tr>\n",
       "      <th>801</th>\n",
       "      <td>CNP0024667</td>\n",
       "      <td>4.855472</td>\n",
       "    </tr>\n",
       "    <tr>\n",
       "      <th>912</th>\n",
       "      <td>CNP0029690</td>\n",
       "      <td>4.855417</td>\n",
       "    </tr>\n",
       "    <tr>\n",
       "      <th>4179</th>\n",
       "      <td>CNP0009065</td>\n",
       "      <td>4.689823</td>\n",
       "    </tr>\n",
       "    <tr>\n",
       "      <th>4389</th>\n",
       "      <td>CNP0028394</td>\n",
       "      <td>4.883674</td>\n",
       "    </tr>\n",
       "    <tr>\n",
       "      <th>5108</th>\n",
       "      <td>CNP0009411</td>\n",
       "      <td>4.831077</td>\n",
       "    </tr>\n",
       "    <tr>\n",
       "      <th>5171</th>\n",
       "      <td>CNP0031876</td>\n",
       "      <td>4.830831</td>\n",
       "    </tr>\n",
       "    <tr>\n",
       "      <th>10942</th>\n",
       "      <td>CNP0018533</td>\n",
       "      <td>4.808430</td>\n",
       "    </tr>\n",
       "  </tbody>\n",
       "</table>\n",
       "</div>"
      ],
      "text/plain": [
       "      molecule_name     pEC50\n",
       "90       CNP0000098  4.853605\n",
       "91       CNP0000099  4.883674\n",
       "583      CNP0008985  4.867765\n",
       "801      CNP0024667  4.855472\n",
       "912      CNP0029690  4.855417\n",
       "4179     CNP0009065  4.689823\n",
       "4389     CNP0028394  4.883674\n",
       "5108     CNP0009411  4.831077\n",
       "5171     CNP0031876  4.830831\n",
       "10942    CNP0018533  4.808430"
      ]
     },
     "execution_count": 8,
     "metadata": {},
     "output_type": "execute_result"
    }
   ],
   "source": [
    "selected_rows.head(10)"
   ]
  },
  {
   "cell_type": "code",
   "execution_count": 9,
   "id": "45e6f55e",
   "metadata": {},
   "outputs": [],
   "source": [
    "df2 = selected_rows\n"
   ]
  },
  {
   "cell_type": "code",
   "execution_count": 10,
   "id": "63ee3592",
   "metadata": {},
   "outputs": [
    {
     "data": {
      "text/html": [
       "<div>\n",
       "<style scoped>\n",
       "    .dataframe tbody tr th:only-of-type {\n",
       "        vertical-align: middle;\n",
       "    }\n",
       "\n",
       "    .dataframe tbody tr th {\n",
       "        vertical-align: top;\n",
       "    }\n",
       "\n",
       "    .dataframe thead th {\n",
       "        text-align: right;\n",
       "    }\n",
       "</style>\n",
       "<table border=\"1\" class=\"dataframe\">\n",
       "  <thead>\n",
       "    <tr style=\"text-align: right;\">\n",
       "      <th></th>\n",
       "      <th>molecule_name</th>\n",
       "      <th>pEC50</th>\n",
       "    </tr>\n",
       "  </thead>\n",
       "  <tbody>\n",
       "    <tr>\n",
       "      <th>90</th>\n",
       "      <td>CNP0000098</td>\n",
       "      <td>4.853605</td>\n",
       "    </tr>\n",
       "    <tr>\n",
       "      <th>91</th>\n",
       "      <td>CNP0000099</td>\n",
       "      <td>4.883674</td>\n",
       "    </tr>\n",
       "    <tr>\n",
       "      <th>583</th>\n",
       "      <td>CNP0008985</td>\n",
       "      <td>4.867765</td>\n",
       "    </tr>\n",
       "    <tr>\n",
       "      <th>801</th>\n",
       "      <td>CNP0024667</td>\n",
       "      <td>4.855472</td>\n",
       "    </tr>\n",
       "    <tr>\n",
       "      <th>912</th>\n",
       "      <td>CNP0029690</td>\n",
       "      <td>4.855417</td>\n",
       "    </tr>\n",
       "    <tr>\n",
       "      <th>4179</th>\n",
       "      <td>CNP0009065</td>\n",
       "      <td>4.689823</td>\n",
       "    </tr>\n",
       "    <tr>\n",
       "      <th>4389</th>\n",
       "      <td>CNP0028394</td>\n",
       "      <td>4.883674</td>\n",
       "    </tr>\n",
       "    <tr>\n",
       "      <th>5108</th>\n",
       "      <td>CNP0009411</td>\n",
       "      <td>4.831077</td>\n",
       "    </tr>\n",
       "    <tr>\n",
       "      <th>5171</th>\n",
       "      <td>CNP0031876</td>\n",
       "      <td>4.830831</td>\n",
       "    </tr>\n",
       "    <tr>\n",
       "      <th>10942</th>\n",
       "      <td>CNP0018533</td>\n",
       "      <td>4.808430</td>\n",
       "    </tr>\n",
       "  </tbody>\n",
       "</table>\n",
       "</div>"
      ],
      "text/plain": [
       "      molecule_name     pEC50\n",
       "90       CNP0000098  4.853605\n",
       "91       CNP0000099  4.883674\n",
       "583      CNP0008985  4.867765\n",
       "801      CNP0024667  4.855472\n",
       "912      CNP0029690  4.855417\n",
       "4179     CNP0009065  4.689823\n",
       "4389     CNP0028394  4.883674\n",
       "5108     CNP0009411  4.831077\n",
       "5171     CNP0031876  4.830831\n",
       "10942    CNP0018533  4.808430"
      ]
     },
     "execution_count": 10,
     "metadata": {},
     "output_type": "execute_result"
    }
   ],
   "source": [
    "df2.head(10)    "
   ]
  },
  {
   "cell_type": "code",
   "execution_count": 11,
   "id": "c7acda0a",
   "metadata": {},
   "outputs": [
    {
     "name": "stdout",
     "output_type": "stream",
     "text": [
      "<class 'pandas.core.frame.DataFrame'>\n",
      "Int64Index: 2450 entries, 90 to 340196\n",
      "Data columns (total 2 columns):\n",
      " #   Column         Non-Null Count  Dtype  \n",
      "---  ------         --------------  -----  \n",
      " 0   molecule_name  2450 non-null   object \n",
      " 1   pEC50          2450 non-null   float64\n",
      "dtypes: float64(1), object(1)\n",
      "memory usage: 57.4+ KB\n"
     ]
    }
   ],
   "source": [
    "df2.info()"
   ]
  },
  {
   "cell_type": "code",
   "execution_count": null,
   "id": "e56cdec2",
   "metadata": {},
   "outputs": [],
   "source": [
    "df2.save(\"\")"
   ]
  },
  {
   "cell_type": "code",
   "execution_count": 15,
   "id": "52f98031",
   "metadata": {},
   "outputs": [],
   "source": [
    "df2.to_csv('selectedpEC50.csv', index=False)"
   ]
  }
 ],
 "metadata": {
  "kernelspec": {
   "display_name": "Python 3 (ipykernel)",
   "language": "python",
   "name": "python3"
  },
  "language_info": {
   "codemirror_mode": {
    "name": "ipython",
    "version": 3
   },
   "file_extension": ".py",
   "mimetype": "text/x-python",
   "name": "python",
   "nbconvert_exporter": "python",
   "pygments_lexer": "ipython3",
   "version": "3.10.11"
  }
 },
 "nbformat": 4,
 "nbformat_minor": 5
}
